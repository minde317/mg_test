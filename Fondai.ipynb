{
 "cells": [
  {
   "cell_type": "code",
   "execution_count": 1,
   "metadata": {},
   "outputs": [
    {
     "name": "stdout",
     "output_type": "stream",
     "text": [
      "Collecting bs4\n",
      "  Downloading bs4-0.0.1.tar.gz (1.1 kB)\n",
      "Requirement already satisfied: beautifulsoup4 in /opt/conda/envs/Python-3.8-main/lib/python3.8/site-packages (from bs4) (4.9.3)\n",
      "Requirement already satisfied: soupsieve>1.2 in /opt/conda/envs/Python-3.8-main/lib/python3.8/site-packages (from beautifulsoup4->bs4) (2.2.1)\n",
      "Building wheels for collected packages: bs4\n",
      "  Building wheel for bs4 (setup.py) ... \u001b[?25ldone\n",
      "\u001b[?25h  Created wheel for bs4: filename=bs4-0.0.1-py3-none-any.whl size=1273 sha256=71c9e494cf0708b33dba120f2e90a3d15b36c32f60c8ecbcce34a123c6047069\n",
      "  Stored in directory: /tmp/wsuser/.cache/pip/wheels/75/78/21/68b124549c9bdc94f822c02fb9aa3578a669843f9767776bca\n",
      "Successfully built bs4\n",
      "Installing collected packages: bs4\n",
      "Successfully installed bs4-0.0.1\n"
     ]
    }
   ],
   "source": [
    "!pip install bs4\n"
   ]
  },
  {
   "cell_type": "code",
   "execution_count": 2,
   "metadata": {},
   "outputs": [
    {
     "name": "stdout",
     "output_type": "stream",
     "text": [
      "Requirement already satisfied: html5lib in /opt/conda/envs/Python-3.8-main/lib/python3.8/site-packages (1.1)\n",
      "Requirement already satisfied: webencodings in /opt/conda/envs/Python-3.8-main/lib/python3.8/site-packages (from html5lib) (0.5.1)\n",
      "Requirement already satisfied: six>=1.9 in /opt/conda/envs/Python-3.8-main/lib/python3.8/site-packages (from html5lib) (1.15.0)\n",
      "Note: you may need to restart the kernel to use updated packages.\n"
     ]
    }
   ],
   "source": [
    "pip install html5lib"
   ]
  },
  {
   "cell_type": "code",
   "execution_count": 3,
   "metadata": {},
   "outputs": [],
   "source": [
    "from bs4 import BeautifulSoup\n",
    "import requests  \n",
    "import pandas as pd"
   ]
  },
  {
   "cell_type": "code",
   "execution_count": 4,
   "metadata": {},
   "outputs": [],
   "source": [
    "def valiuta(s):\n",
    "    a = s.rstrip(\"EUR\")\n",
    "    b = a.strip()\n",
    "    c = b.replace(\",\", \".\")\n",
    "    return float(c)\n",
    "\n",
    "def get_price(fondas, url):\n",
    "    data  = requests.get(url).text \n",
    "    soup = BeautifulSoup(data, 'html.parser')\n",
    "    tables = soup.find_all('table') \n",
    "    for row in tables[1].find_all('tr'): \n",
    "        cols = row.find_all('td')\n",
    "        if (cols[0].text == 'Vieneto vertė*'): \n",
    "            #print(\"{}: {}\".format(fondas,cols[1].text))\n",
    "            df.loc[df.Fondas == fondas, \"Rinkos kaina\"] = valiuta(cols[1].text)\n",
    "            \n",
    "def get_all():\n",
    "    #Nordic\n",
    "        url = \"https://e.seb.lt/cgi-bin/ipank/ipank.p?sesskey=&lang=LIT&act=VPFONDINFO&isin=%20LU1748252209&frnam=X&unetmenuhigh=\"\n",
    "        get_price('Nordic', url)\n",
    "    #BIO:\n",
    "        url = \"https://e.seb.lt/cgi-bin/ipank/ipank.p?sesskey=&lang=LIT&act=VPFONDINFO&isin=%20LU2249630927&frnam=X&unetmenuhigh=\"\n",
    "        get_price('BIO', url)\n",
    "    #Balanced:\n",
    "        url = \"https://e.seb.lt/cgi-bin/ipank/ipank.p?sesskey=&lang=LIT&act=VPFONDINFO&isin=%20LU1764038458&frnam=X&unetmenuhigh=\"\n",
    "        get_price('Balanced', url)\n",
    "            "
   ]
  },
  {
   "cell_type": "code",
   "execution_count": 7,
   "metadata": {},
   "outputs": [],
   "source": [
    "df = pd.DataFrame(columns=[\"Fondas\", \"Rinkos kaina\", \"Pirkimo kaina\", \"Kiekis\", \"Pirkimo verte\",\"Rinkos verte\",\"Pelnas\",\"%\"])\n",
    "df = df.append({\"Fondas\":'Nordic', \"Rinkos kaina\":0.0, \"Pirkimo kaina\":151.285930, \"Kiekis\":6.610, \"Pirkimo verte\":1000.00, \"Rinkos verte\": 0.00, \"Pelnas\": 0.00, \"%\": 0.00 }, ignore_index=True)\n",
    "df = df.append({\"Fondas\":'BIO', \"Rinkos kaina\":0.0, \"Pirkimo kaina\":115.70056, \"Kiekis\":8.643, \"Pirkimo verte\":1000.00, \"Rinkos verte\": 0.00, \"Pelnas\": 0.00, \"%\": 0.00 }, ignore_index=True)\n",
    "df = df.append({\"Fondas\":'Balanced', \"Rinkos kaina\":0.0, \"Pirkimo kaina\":112.120193, \"Kiekis\":8.919, \"Pirkimo verte\":1000.00, \"Rinkos verte\": 0.00, \"Pelnas\": 0.00, \"%\": 0.00 }, ignore_index=True)"
   ]
  },
  {
   "cell_type": "code",
   "execution_count": 9,
   "metadata": {},
   "outputs": [
    {
     "name": "stdout",
     "output_type": "stream",
     "text": [
      "Pelnas:  17.737 EUR\n"
     ]
    },
    {
     "data": {
      "text/html": [
       "<div>\n",
       "<style scoped>\n",
       "    .dataframe tbody tr th:only-of-type {\n",
       "        vertical-align: middle;\n",
       "    }\n",
       "\n",
       "    .dataframe tbody tr th {\n",
       "        vertical-align: top;\n",
       "    }\n",
       "\n",
       "    .dataframe thead th {\n",
       "        text-align: right;\n",
       "    }\n",
       "</style>\n",
       "<table border=\"1\" class=\"dataframe\">\n",
       "  <thead>\n",
       "    <tr style=\"text-align: right;\">\n",
       "      <th></th>\n",
       "      <th>Fondas</th>\n",
       "      <th>Rinkos kaina</th>\n",
       "      <th>Pirkimo kaina</th>\n",
       "      <th>Kiekis</th>\n",
       "      <th>Pirkimo verte</th>\n",
       "      <th>Rinkos verte</th>\n",
       "      <th>Pelnas</th>\n",
       "      <th>%</th>\n",
       "    </tr>\n",
       "  </thead>\n",
       "  <tbody>\n",
       "    <tr>\n",
       "      <th>0</th>\n",
       "      <td>Nordic</td>\n",
       "      <td>163.233</td>\n",
       "      <td>151.285930</td>\n",
       "      <td>6.610</td>\n",
       "      <td>1000.0</td>\n",
       "      <td>1078.970130</td>\n",
       "      <td>78.970130</td>\n",
       "      <td>7.897</td>\n",
       "    </tr>\n",
       "    <tr>\n",
       "      <th>1</th>\n",
       "      <td>BIO</td>\n",
       "      <td>107.646</td>\n",
       "      <td>115.700560</td>\n",
       "      <td>8.643</td>\n",
       "      <td>1000.0</td>\n",
       "      <td>930.384378</td>\n",
       "      <td>-69.615622</td>\n",
       "      <td>-6.962</td>\n",
       "    </tr>\n",
       "    <tr>\n",
       "      <th>2</th>\n",
       "      <td>Balanced</td>\n",
       "      <td>113.060</td>\n",
       "      <td>112.120193</td>\n",
       "      <td>8.919</td>\n",
       "      <td>1000.0</td>\n",
       "      <td>1008.382140</td>\n",
       "      <td>8.382140</td>\n",
       "      <td>0.838</td>\n",
       "    </tr>\n",
       "  </tbody>\n",
       "</table>\n",
       "</div>"
      ],
      "text/plain": [
       "     Fondas  Rinkos kaina  Pirkimo kaina  Kiekis  Pirkimo verte  Rinkos verte  \\\n",
       "0    Nordic       163.233     151.285930   6.610         1000.0   1078.970130   \n",
       "1       BIO       107.646     115.700560   8.643         1000.0    930.384378   \n",
       "2  Balanced       113.060     112.120193   8.919         1000.0   1008.382140   \n",
       "\n",
       "      Pelnas      %  \n",
       "0  78.970130  7.897  \n",
       "1 -69.615622 -6.962  \n",
       "2   8.382140  0.838  "
      ]
     },
     "execution_count": 9,
     "metadata": {},
     "output_type": "execute_result"
    }
   ],
   "source": [
    "get_all()\n",
    "\n",
    "df['Rinkos verte'] = df['Rinkos kaina'] * df['Kiekis'] \n",
    "df['Pelnas'] = df['Rinkos verte'] - df['Pirkimo verte'] \n",
    "df['%'] = round((df['Pelnas'] / df['Pirkimo verte']) *100,3) \n",
    "#df.head()\n",
    "pelnas = round(df['Pelnas'].sum(),3)\n",
    "print('Pelnas: ',pelnas, 'EUR')\n",
    "\n",
    "df.head()"
   ]
  },
  {
   "cell_type": "code",
   "execution_count": null,
   "metadata": {},
   "outputs": [],
   "source": []
  }
 ],
 "metadata": {
  "kernelspec": {
   "display_name": "Python 3.8",
   "language": "python",
   "name": "python3"
  },
  "language_info": {
   "codemirror_mode": {
    "name": "ipython",
    "version": 3
   },
   "file_extension": ".py",
   "mimetype": "text/x-python",
   "name": "python",
   "nbconvert_exporter": "python",
   "pygments_lexer": "ipython3",
   "version": "3.8.12"
  }
 },
 "nbformat": 4,
 "nbformat_minor": 1
}
